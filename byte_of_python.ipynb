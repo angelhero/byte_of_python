{
 "cells": [
  {
   "cell_type": "markdown",
   "metadata": {},
   "source": [
    "# byte of python"
   ]
  },
  {
   "cell_type": "code",
   "execution_count": 24,
   "metadata": {},
   "outputs": [
    {
     "name": "stdout",
     "output_type": "stream",
     "text": [
      "Hello World\n"
     ]
    }
   ],
   "source": [
    "print('Hello World')"
   ]
  },
  {
   "cell_type": "code",
   "execution_count": 25,
   "metadata": {},
   "outputs": [
    {
     "name": "stdout",
     "output_type": "stream",
     "text": [
      "what's\n"
     ]
    }
   ],
   "source": [
    "print('what\\'s')"
   ]
  },
  {
   "cell_type": "code",
   "execution_count": 26,
   "metadata": {},
   "outputs": [
    {
     "name": "stdout",
     "output_type": "stream",
     "text": [
      "Help on built-in function len in module builtins:\n",
      "\n",
      "len(obj, /)\n",
      "    Return the number of items in a container.\n",
      "\n"
     ]
    }
   ],
   "source": [
    "help('len')"
   ]
  },
  {
   "cell_type": "markdown",
   "metadata": {},
   "source": [
    "## 常量\n",
    "\n",
    "没有单独的 long 类型。 int 类型可以是任意大小的整数。\n",
    "\n",
    "你可以用单引号指定字符串，如 'Quote me on this'。\n",
    "\n",
    "所有的空格，即引号内的空格和制表符，均保持原样。\n",
    "\n",
    "你可以使用三引号 ——（\"\"\" 或 '''）指定多行字符串。你可以在三引号中自由地使用单引号和双引号。\n",
    "\n",
    "一旦你创建了一个字符串，你就不能再改变它了。\n",
    "\n",
    "在 Python 中，没有单独的 char 数据类型。根本就没有必要拥有单独的 char 数据类型。\n",
    "\n",
    "要记住，单引号字符串和双引号字符串是相同的 —— 他们没有任何区别。"
   ]
  },
  {
   "cell_type": "code",
   "execution_count": 27,
   "metadata": {
    "scrolled": true
   },
   "outputs": [
    {
     "name": "stdout",
     "output_type": "stream",
     "text": [
      "This is a multi-line string. This is the first line.\n",
      "This is the second line.\n",
      "\"What's your name?,\" I asked.\n",
      "He said \"Bond, James Bond.\"\n",
      "\n"
     ]
    }
   ],
   "source": [
    "a='''This is a multi-line string. This is the first line.\n",
    "This is the second line.\n",
    "\"What's your name?,\" I asked.\n",
    "He said \"Bond, James Bond.\"\n",
    "'''\n",
    "print(a)"
   ]
  },
  {
   "cell_type": "code",
   "execution_count": 28,
   "metadata": {},
   "outputs": [
    {
     "name": "stdout",
     "output_type": "stream",
     "text": [
      "Swaroop was 20 years old when he wrote this book\n",
      "Why is Swaroop playing with that python?\n"
     ]
    }
   ],
   "source": [
    "age = 20\n",
    "name = 'Swaroop'\n",
    "\n",
    "print('{0} was {1} years old when he wrote this book'.format(name, age))\n",
    "print('Why is {0} playing with that python?'.format(name))"
   ]
  },
  {
   "cell_type": "markdown",
   "metadata": {},
   "source": [
    "fromat 方法，如果不填数字，默认从 0 依次加 1 。"
   ]
  },
  {
   "cell_type": "code",
   "execution_count": 29,
   "metadata": {},
   "outputs": [
    {
     "name": "stdout",
     "output_type": "stream",
     "text": [
      "Angel have been learning byte of python for a long time.\n",
      "byte of python have been learning Angel for a long time.\n"
     ]
    }
   ],
   "source": [
    "book = 'byte of python'\n",
    "name = 'Angel'\n",
    "\n",
    "print('{1} have been learning {0} for a long time.'.format(book,name))\n",
    "\n",
    "print('{} have been learning {} for a long time.'.format(book,name))\n",
    "\n",
    "# remind the variable rank"
   ]
  },
  {
   "cell_type": "code",
   "execution_count": 30,
   "metadata": {},
   "outputs": [
    {
     "name": "stdout",
     "output_type": "stream",
     "text": [
      "0.333\n",
      "___hello___\n",
      "Swaroop wrote A Byte of Python\n"
     ]
    }
   ],
   "source": [
    "# 取十进制小数点后的精度为 3 ，得到的浮点数为 '0.333'\n",
    "print('{0:.3f}'.format(1.0/3))\n",
    "\n",
    "# 填充下划线 (_) ，文本居中\n",
    "# 将 '___hello___' 的宽度扩充为 11 \n",
    "print('{0:_^11}'.format('hello'))\n",
    "\n",
    "# 用基于关键字的方法打印显示 'Swaroop wrote A Byte of Python'\n",
    "print('{name} wrote {book}'.format(name='Swaroop', book='A Byte of Python'))"
   ]
  },
  {
   "cell_type": "code",
   "execution_count": 31,
   "metadata": {
    "scrolled": true
   },
   "outputs": [
    {
     "name": "stdout",
     "output_type": "stream",
     "text": [
      "0.3333\n",
      "     W      \n",
      "Angel eat orange\n"
     ]
    }
   ],
   "source": [
    "print('{0:.4f}'.format(1.0/3))\n",
    "print('{0: ^12}'.format('W'))\n",
    "print('{name} eat {fruit}'.format(name='Angel', fruit='orange'))"
   ]
  },
  {
   "cell_type": "markdown",
   "metadata": {},
   "source": [
    "print 总是以一个不可见的 「新的一行」 字符（\\n）作为 end 。"
   ]
  },
  {
   "cell_type": "code",
   "execution_count": 32,
   "metadata": {},
   "outputs": [
    {
     "name": "stdout",
     "output_type": "stream",
     "text": [
      "aba\tb\n",
      "b"
     ]
    }
   ],
   "source": [
    "print('a', end='')\n",
    "print('b', end='')\n",
    "print('a', end='\\t')\n",
    "print('b', end='\\n')\n",
    "print('b', end='')"
   ]
  },
  {
   "cell_type": "code",
   "execution_count": 33,
   "metadata": {},
   "outputs": [
    {
     "name": "stdout",
     "output_type": "stream",
     "text": [
      "What's your name?\n",
      "What's your name?\n",
      "What\\s your name?\n",
      "What\ts your name?\n",
      "What\n",
      "s your name?\n",
      "Whats your name?\n",
      "Whats your name?\n"
     ]
    }
   ],
   "source": [
    "print('What\\'s your name?')\n",
    "print(\"What\\'s your name?\")\n",
    "print(\"What\\\\s your name?\")\n",
    "print(\"What\\ts your name?\")\n",
    "print(\"What\\ns your name?\")\n",
    "print(\"What\\\n",
    "s your name?\")\n",
    "print(\"What\\\n",
    "s your \\\n",
    "name?\")"
   ]
  },
  {
   "cell_type": "markdown",
   "metadata": {},
   "source": [
    "如果你需要没有特殊处理（转义序列等）的字符串，那么你需要指定一个 原始 字符串，指定方法是在字符串前面加上 r 或者 R 。"
   ]
  },
  {
   "cell_type": "code",
   "execution_count": 34,
   "metadata": {},
   "outputs": [
    {
     "name": "stdout",
     "output_type": "stream",
     "text": [
      "Newlines are indicated by \\n\n"
     ]
    }
   ],
   "source": [
    "print(r\"Newlines are indicated by \\n\")\n"
   ]
  },
  {
   "cell_type": "markdown",
   "metadata": {},
   "source": [
    "## 变量\n",
    "\n",
    "标识符的第一个字符必须是字母（大写 ASCII 或小写 ASCII 或 Unicode 字符）或者下划线 （\\_）。\n",
    "\n",
    "标识符的其余部分可以由字母、下划线 (\\_) 或者数字 (0-9) 组成。\n",
    "\n",
    "标识符的名称区分大小写。例如， myname 和 myName 是 不 相同的。\n",
    "\n",
    "变量可以直接通过赋值来使用。不需要任何声明或者数据类型定义。\n",
    "\n"
   ]
  },
  {
   "cell_type": "markdown",
   "metadata": {},
   "source": [
    "## 对象\n",
    "\n",
    "从某种意义上说，Python 的面向对象是非常纯粹的，因为一切皆对象，包括数字、字符串和函数。"
   ]
  },
  {
   "cell_type": "markdown",
   "metadata": {},
   "source": [
    "坚持 一行最多一个语句 ，不要使用分号。可以使用反斜杠将其分解为多个物理行。我们称之为 显式行连接："
   ]
  },
  {
   "cell_type": "code",
   "execution_count": 35,
   "metadata": {},
   "outputs": [
    {
     "name": "stdout",
     "output_type": "stream",
     "text": [
      "This is a string.This continues the string.\n",
      "5\n"
     ]
    }
   ],
   "source": [
    "s = 'This is a string.\\\n",
    "This continues the string.'\n",
    "print(s)\n",
    "\n",
    "i =\\\n",
    "5\n",
    "print(i)"
   ]
  },
  {
   "cell_type": "code",
   "execution_count": 36,
   "metadata": {},
   "outputs": [
    {
     "ename": "SyntaxError",
     "evalue": "from __future__ imports must occur at the beginning of the file (<ipython-input-36-6d5c5b2f0daf>, line 4)",
     "output_type": "error",
     "traceback": [
      "\u001b[0;36m  File \u001b[0;32m\"<ipython-input-36-6d5c5b2f0daf>\"\u001b[0;36m, line \u001b[0;32m4\u001b[0m\n\u001b[0;31mSyntaxError\u001b[0m\u001b[0;31m:\u001b[0m from __future__ imports must occur at the beginning of the file\n"
     ]
    }
   ],
   "source": [
    "from __future__ import braces"
   ]
  },
  {
   "cell_type": "markdown",
   "metadata": {},
   "source": [
    "## 运算符\n",
    "\n",
    "\\* (乘)\n",
    "\n",
    "得到两个数相乘的值，或者将一个字符串重复若干次。\n",
    "\n",
    "// (除且取整)\n",
    "\n",
    "x 除以 y 并返回小于商的最大整数，注意，如果操作数之一为浮点数，则返回值必为浮点数。\n",
    "\n",
    "∧ (按位异或) \n",
    "\n",
    "a⊕b = (¬a ∧ b) ∨ (a ∧¬b)\n",
    "\n",
    "变量 = 变量 运算符 表达式 变成了 变量 运算符= 表达式。"
   ]
  },
  {
   "cell_type": "code",
   "execution_count": 37,
   "metadata": {},
   "outputs": [
    {
     "name": "stdout",
     "output_type": "stream",
     "text": [
      "5\n",
      "8\n"
     ]
    }
   ],
   "source": [
    "a = 2\n",
    "a = a + 3\n",
    "print(a)\n",
    "a += 3\n",
    "print(a)"
   ]
  },
  {
   "cell_type": "markdown",
   "metadata": {},
   "source": [
    "## 计算顺序\n",
    "lambda ：Lambda 表达式\n",
    "\n",
    "if - else ：条件表达式\n",
    "\n",
    "or ：布尔或\n",
    "\n",
    "and ：布尔与\n",
    "\n",
    "not x ：布尔非\n",
    "\n",
    "in, not in, is, is not, <, <=, >, >=, !=, == ：比较，包括成员资格测试和身份测试\n",
    "\n",
    "| ：按位或\n",
    "\n",
    "^ ：按位异或\n",
    "\n",
    "& ：按位与\n",
    "\n",
    "<<, >> ：移位\n",
    "\n",
    "+, - ：加减法\n",
    "\n",
    "\\*, /, //, % ：乘除法，取整和取余\n",
    "\n",
    "+x, -x, ~x ：正负号，按位非\n",
    "\n",
    "** ：求幂\n",
    "\n",
    "x[index], x[index:index], x(arguments...), x.attribute ：订阅，切片，调用，属性引用\n",
    "\n",
    "(expressions...), [expressions...], {key: value...}, {expressions...} ： 绑定或者元组显示，列表显示，字典显示，设置显示\n",
    "\n",
    "可以使用括号增加可读性或改变计算顺序，相同优先级的操作符按照从左到右的方式进行计算。\n",
    "\n",
    "如下，尽管我们没有指明 'Area is' 与变量 area 之间有一个空格，但是 Python 会自动加上。"
   ]
  },
  {
   "cell_type": "code",
   "execution_count": 38,
   "metadata": {},
   "outputs": [
    {
     "name": "stdout",
     "output_type": "stream",
     "text": [
      "Area is 10\n",
      "Perimeter is 14\n"
     ]
    }
   ],
   "source": [
    "length = 5\n",
    "breadth = 2\n",
    "\n",
    "area = length * breadth\n",
    "print('Area is', area)\n",
    "print('Perimeter is', 2 * (length + breadth))"
   ]
  },
  {
   "cell_type": "markdown",
   "metadata": {},
   "source": [
    "## 控制流\n",
    "\n",
    "### if 语句"
   ]
  },
  {
   "cell_type": "code",
   "execution_count": 43,
   "metadata": {},
   "outputs": [
    {
     "name": "stdout",
     "output_type": "stream",
     "text": [
      "Please guess my age:12\n",
      "larger please!\n"
     ]
    }
   ],
   "source": [
    "age = 25\n",
    "guess = int(input('Please guess my age:'))\n",
    "\n",
    "if age == guess:\n",
    "    print('bingo!')\n",
    "elif age > guess:\n",
    "    print('larger please!')\n",
    "else:\n",
    "    print('lower please!')"
   ]
  },
  {
   "cell_type": "markdown",
   "metadata": {},
   "source": [
    "记住， elif 和 else 部分是可选的。\n",
    "\n",
    "Python 中没有 switch 语句。"
   ]
  },
  {
   "cell_type": "code",
   "execution_count": 44,
   "metadata": {},
   "outputs": [
    {
     "name": "stdout",
     "output_type": "stream",
     "text": [
      "Yes, it is true\n"
     ]
    }
   ],
   "source": [
    "if True:\n",
    "    print('Yes, it is true')"
   ]
  },
  {
   "cell_type": "markdown",
   "metadata": {},
   "source": [
    "### while 语句\n",
    "\n",
    "记住， else 部分是可选的。如果程序有该部分，那么在 while 循环结束后一定会执行一次该部分。除非遇到 break 语句。"
   ]
  },
  {
   "cell_type": "code",
   "execution_count": 45,
   "metadata": {},
   "outputs": [
    {
     "name": "stdout",
     "output_type": "stream",
     "text": [
      "Please guess my age:12\n",
      "larger please!\n",
      "Please guess my age:30\n",
      "lower please!\n",
      "Please guess my age:25\n",
      "bingo!\n",
      "You did it!\n"
     ]
    }
   ],
   "source": [
    "age = 25\n",
    "running = True\n",
    "\n",
    "while running:\n",
    "    guess = int(input('Please guess my age:'))\n",
    "    if age == guess:\n",
    "        print('bingo!')\n",
    "        running = False\n",
    "    elif age > guess:\n",
    "        print('larger please!')\n",
    "    else:\n",
    "        print('lower please!')\n",
    "else:\n",
    "    print('You did it!')"
   ]
  },
  {
   "cell_type": "markdown",
   "metadata": {},
   "source": [
    "### for 循环\n",
    "记住， else 部分是可选的。如果程序有该部分，那么在 for 循环结束后一定会执行一次该部分。除非遇到 break 语句。\n",
    "\n",
    "range(1,5) 得到序列 [1, 2, 3, 4] 。range(1,5,2) 得到 [1,3] 。\n",
    "\n",
    "list(range(5)) 会生成 [0, 1, 2, 3, 4]。\n",
    "\n",
    "记住，返回的序列的范围 不 包含第二个数字。\n",
    "\n",
    "range 一次只分配一个。list(range(5)) 得到全部。"
   ]
  },
  {
   "cell_type": "code",
   "execution_count": 46,
   "metadata": {},
   "outputs": [
    {
     "name": "stdout",
     "output_type": "stream",
     "text": [
      "1\n",
      "2\n",
      "3\n",
      "4\n",
      "loop finished!\n"
     ]
    }
   ],
   "source": [
    "for i in range(1,5):\n",
    "    print(i)\n",
    "else:\n",
    "    print('loop finished!')"
   ]
  },
  {
   "cell_type": "markdown",
   "metadata": {},
   "source": [
    "### break 语句\n",
    "用来中断循环，break 之后的语句都不会执行。"
   ]
  },
  {
   "cell_type": "code",
   "execution_count": 47,
   "metadata": {},
   "outputs": [
    {
     "name": "stdout",
     "output_type": "stream",
     "text": [
      "1\n"
     ]
    }
   ],
   "source": [
    "for i in range(1,5):\n",
    "    print(i)\n",
    "    break\n",
    "else:\n",
    "    print('loop finished!')"
   ]
  },
  {
   "cell_type": "markdown",
   "metadata": {},
   "source": [
    "### continue 语句\n",
    "\n",
    "continue 语句用来告诉 Python 跳过当前循环语句块中的其余部分，然后 继续 执行循环的下一个迭代。\n"
   ]
  },
  {
   "cell_type": "code",
   "execution_count": 48,
   "metadata": {},
   "outputs": [
    {
     "name": "stdout",
     "output_type": "stream",
     "text": [
      "please input any word:as\n",
      "larger please!\n",
      "please input any word:adas\n",
      "welcome!\n",
      "please input any word:quir\n",
      "welcome!\n",
      "please input any word:quit\n"
     ]
    }
   ],
   "source": [
    "while True:\n",
    "    name = input('please input any word:')\n",
    "    if name == 'quit':\n",
    "        break\n",
    "    elif len(name) < 3:\n",
    "        print('larger please!')\n",
    "        continue\n",
    "    print('welcome!')"
   ]
  },
  {
   "cell_type": "markdown",
   "metadata": {},
   "source": [
    "区分：continue是结束本次循环 break是结束所有循环"
   ]
  },
  {
   "cell_type": "markdown",
   "metadata": {},
   "source": [
    "## 函数"
   ]
  },
  {
   "cell_type": "code",
   "execution_count": 49,
   "metadata": {},
   "outputs": [],
   "source": [
    "def say_hello():\n",
    "    print('Hello World')"
   ]
  },
  {
   "cell_type": "code",
   "execution_count": 50,
   "metadata": {},
   "outputs": [
    {
     "name": "stdout",
     "output_type": "stream",
     "text": [
      "Hello World\n"
     ]
    }
   ],
   "source": [
    "say_hello()"
   ]
  },
  {
   "cell_type": "markdown",
   "metadata": {},
   "source": [
    "函数定义时括号中的参数叫做 形参，而调用函数时提供的参数叫 实参。\n",
    "\n",
    "直接传入实参和通过变量传入实参都适用。"
   ]
  },
  {
   "cell_type": "code",
   "execution_count": 51,
   "metadata": {},
   "outputs": [],
   "source": [
    "def print_max(a,b):\n",
    "# a,b 是形参\n",
    "    if a > b:\n",
    "        print(a,'is maximum')\n",
    "    elif a == b:\n",
    "        print(a,'equals to',b)\n",
    "    else:\n",
    "        print(b,'is maximum')"
   ]
  },
  {
   "cell_type": "code",
   "execution_count": 52,
   "metadata": {},
   "outputs": [
    {
     "name": "stdout",
     "output_type": "stream",
     "text": [
      "2 is maximum\n"
     ]
    }
   ],
   "source": [
    "print_max(1,2)#1,2是实参"
   ]
  },
  {
   "cell_type": "code",
   "execution_count": 53,
   "metadata": {
    "scrolled": true
   },
   "outputs": [
    {
     "name": "stdout",
     "output_type": "stream",
     "text": [
      "8 is maximum\n"
     ]
    }
   ],
   "source": [
    "x = 7\n",
    "y = 8\n",
    "print_max(x,y)"
   ]
  },
  {
   "cell_type": "markdown",
   "metadata": {},
   "source": [
    "#### 局部变量和全局变量\n",
    "\n",
    "当变量写在函数名括号内时，意味着该变量为局部变量。\n",
    "\n",
    "当函数内变量前用 global 声明时，该变量为全局变量。\n",
    "\n",
    "若变量写在函数名括号内且同时用 global 声明时，会报错。因为不能同时为局部变量和全局变量。"
   ]
  },
  {
   "cell_type": "code",
   "execution_count": 63,
   "metadata": {},
   "outputs": [
    {
     "ename": "SyntaxError",
     "evalue": "name 'x' is parameter and global (<ipython-input-63-aee7ef81326e>, line 8)",
     "output_type": "error",
     "traceback": [
      "\u001b[0;36m  File \u001b[0;32m\"<ipython-input-63-aee7ef81326e>\"\u001b[0;36m, line \u001b[0;32m8\u001b[0m\n\u001b[0;31m    print('x is',x,'y is',y)\u001b[0m\n\u001b[0m           ^\u001b[0m\n\u001b[0;31mSyntaxError\u001b[0m\u001b[0;31m:\u001b[0m name 'x' is parameter and global\n"
     ]
    }
   ],
   "source": [
    "x = 50\n",
    "y = 50\n",
    "\n",
    "def global_func(x,y):\n",
    "    global x,y\n",
    "    x = 20\n",
    "    y = 30\n",
    "    print('x is',x,'y is',y)\n",
    "    \n",
    "global_func()\n",
    "\n",
    "print('x is',x,'y is',y)"
   ]
  },
  {
   "cell_type": "code",
   "execution_count": 64,
   "metadata": {},
   "outputs": [
    {
     "name": "stdout",
     "output_type": "stream",
     "text": [
      "x is 50\n",
      "changed local x to 2\n",
      "x still is 50\n",
      "x is 20 y is 30\n",
      "x is 20 y is 30\n"
     ]
    }
   ],
   "source": [
    "x = 50\n",
    "y = 50\n",
    "\n",
    "def func(x):\n",
    "    print('x is',x)\n",
    "    x = 2\n",
    "    print('changed local x to',x)\n",
    "    \n",
    "func(x)\n",
    "print('x still is',x)\n",
    "\n",
    "def global_func():\n",
    "    global x,y\n",
    "    x = 20\n",
    "    y = 30\n",
    "    print('x is',x,'y is',y)\n",
    "    \n",
    "global_func()\n",
    "\n",
    "print('x is',x,'y is',y)"
   ]
  },
  {
   "cell_type": "markdown",
   "metadata": {},
   "source": [
    "#### 默认参数值\n",
    "\n",
    "形参的默认值必须是常数。更准确的说，默认值是不可改变的。\n",
    "\n",
    "只有形参列表末尾的参数才能指定默认值，即你不能在声明参数列表时先声明有默认值的形参，然后再声明没有默认值的形参。\n",
    "\n",
    "这是因为给形参赋值是按照实参的顺序进行的。例如函数声明 def func(a, b=5) 是有效的，而函数声明 def func(a=5, b) 是 无效的。"
   ]
  },
  {
   "cell_type": "code",
   "execution_count": 68,
   "metadata": {},
   "outputs": [
    {
     "name": "stdout",
     "output_type": "stream",
     "text": [
      "omgomgomg\n",
      "omgomgomgomgomg\n"
     ]
    }
   ],
   "source": [
    "def say(x,y=3):\n",
    "    print(x*y)\n",
    "\n",
    "say('omg')\n",
    "say('omg',5)"
   ]
  },
  {
   "cell_type": "code",
   "execution_count": null,
   "metadata": {},
   "outputs": [],
   "source": []
  }
 ],
 "metadata": {
  "kernelspec": {
   "display_name": "Python 3",
   "language": "python",
   "name": "python3"
  },
  "language_info": {
   "codemirror_mode": {
    "name": "ipython",
    "version": 3
   },
   "file_extension": ".py",
   "mimetype": "text/x-python",
   "name": "python",
   "nbconvert_exporter": "python",
   "pygments_lexer": "ipython3",
   "version": "3.7.3"
  }
 },
 "nbformat": 4,
 "nbformat_minor": 2
}
