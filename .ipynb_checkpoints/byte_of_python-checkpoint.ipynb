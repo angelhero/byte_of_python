{
 "cells": [
  {
   "cell_type": "code",
   "execution_count": 1,
   "metadata": {},
   "outputs": [
    {
     "name": "stdout",
     "output_type": "stream",
     "text": [
      "Hello World\n"
     ]
    }
   ],
   "source": [
    "print('Hello World')"
   ]
  },
  {
   "cell_type": "code",
   "execution_count": 5,
   "metadata": {},
   "outputs": [
    {
     "name": "stdout",
     "output_type": "stream",
     "text": [
      "what's\n"
     ]
    }
   ],
   "source": [
    "print('what\\'s')"
   ]
  },
  {
   "cell_type": "code",
   "execution_count": 12,
   "metadata": {},
   "outputs": [
    {
     "name": "stdout",
     "output_type": "stream",
     "text": [
      "Help on built-in function len in module builtins:\n",
      "\n",
      "len(obj, /)\n",
      "    Return the number of items in a container.\n",
      "\n"
     ]
    }
   ],
   "source": [
    "help('len')"
   ]
  },
  {
   "cell_type": "markdown",
   "metadata": {},
   "source": [
    "没有单独的 long 类型。 int 类型可以是任意大小的整数。\n",
    "\n",
    "你可以用单引号指定字符串，如 'Quote me on this'。\n",
    "\n",
    "所有的空格，即引号内的空格和制表符，均保持原样。\n",
    "\n",
    "你可以使用三引号 ——（\"\"\" 或 '''）指定多行字符串。你可以在三引号中自由地使用单引号和双引号。\n",
    "\n",
    "一旦你创建了一个字符串，你就不能再改变它了。\n",
    "\n",
    "在 Python 中，没有单独的 char 数据类型。根本就没有必要拥有单独的 char 数据类型。\n",
    "\n",
    "要记住，单引号字符串和双引号字符串是相同的 —— 他们没有任何区别。"
   ]
  },
  {
   "cell_type": "code",
   "execution_count": 22,
   "metadata": {
    "scrolled": true
   },
   "outputs": [
    {
     "name": "stdout",
     "output_type": "stream",
     "text": [
      "This is a multi-line string. This is the first line.\n",
      "This is the second line.\n",
      "\"What's your name?,\" I asked.\n",
      "He said \"Bond, James Bond.\"\n",
      "\n"
     ]
    }
   ],
   "source": [
    "a='''This is a multi-line string. This is the first line.\n",
    "This is the second line.\n",
    "\"What's your name?,\" I asked.\n",
    "He said \"Bond, James Bond.\"\n",
    "'''\n",
    "print(a)"
   ]
  },
  {
   "cell_type": "code",
   "execution_count": 23,
   "metadata": {},
   "outputs": [
    {
     "name": "stdout",
     "output_type": "stream",
     "text": [
      "Swaroop was 20 years old when he wrote this book\n",
      "Why is Swaroop playing with that python?\n"
     ]
    }
   ],
   "source": [
    "age = 20\n",
    "name = 'Swaroop'\n",
    "\n",
    "print('{0} was {1} years old when he wrote this book'.format(name, age))\n",
    "print('Why is {0} playing with that python?'.format(name))"
   ]
  },
  {
   "cell_type": "markdown",
   "metadata": {},
   "source": [
    "fromat 方法，如果不填数字，默认从 0 依次加 1 。"
   ]
  },
  {
   "cell_type": "code",
   "execution_count": 26,
   "metadata": {},
   "outputs": [
    {
     "name": "stdout",
     "output_type": "stream",
     "text": [
      "Angel have been learning byte of python for a long time.\n",
      "byte of python have been learning Angel for a long time.\n"
     ]
    }
   ],
   "source": [
    "book = 'byte of python'\n",
    "name = 'Angel'\n",
    "\n",
    "print('{1} have been learning {0} for a long time.'.format(book,name))\n",
    "\n",
    "print('{} have been learning {} for a long time.'.format(book,name))\n",
    "\n",
    "# remind the variable rank"
   ]
  },
  {
   "cell_type": "code",
   "execution_count": 28,
   "metadata": {},
   "outputs": [
    {
     "name": "stdout",
     "output_type": "stream",
     "text": [
      "0.333\n",
      "___hello___\n",
      "Swaroop wrote A Byte of Python\n"
     ]
    }
   ],
   "source": [
    "# 取十进制小数点后的精度为 3 ，得到的浮点数为 '0.333'\n",
    "print('{0:.3f}'.format(1.0/3))\n",
    "\n",
    "# 填充下划线 (_) ，文本居中\n",
    "# 将 '___hello___' 的宽度扩充为 11 \n",
    "print('{0:_^11}'.format('hello'))\n",
    "\n",
    "# 用基于关键字的方法打印显示 'Swaroop wrote A Byte of Python'\n",
    "print('{name} wrote {book}'.format(name='Swaroop', book='A Byte of Python'))"
   ]
  },
  {
   "cell_type": "code",
   "execution_count": 35,
   "metadata": {
    "scrolled": true
   },
   "outputs": [
    {
     "name": "stdout",
     "output_type": "stream",
     "text": [
      "0.3333\n",
      "     W      \n",
      "Angel eat orange\n"
     ]
    }
   ],
   "source": [
    "print('{0:.4f}'.format(1.0/3))\n",
    "print('{0: ^12}'.format('W'))\n",
    "print('{name} eat {fruit}'.format(name='Angel', fruit='orange'))"
   ]
  },
  {
   "cell_type": "markdown",
   "metadata": {},
   "source": [
    "print 总是以一个不可见的 「新的一行」 字符（\\n）作为 end 。"
   ]
  },
  {
   "cell_type": "code",
   "execution_count": 39,
   "metadata": {},
   "outputs": [
    {
     "name": "stdout",
     "output_type": "stream",
     "text": [
      "aba\tb\n",
      "b"
     ]
    }
   ],
   "source": [
    "print('a', end='')\n",
    "print('b', end='')\n",
    "print('a', end='\\t')\n",
    "print('b', end='\\n')\n",
    "print('b', end='')"
   ]
  },
  {
   "cell_type": "code",
   "execution_count": 47,
   "metadata": {},
   "outputs": [
    {
     "name": "stdout",
     "output_type": "stream",
     "text": [
      "What's your name?\n",
      "What's your name?\n",
      "What\\s your name?\n",
      "What\ts your name?\n",
      "What\n",
      "s your name?\n",
      "Whats your name?\n",
      "Whats your name?\n"
     ]
    }
   ],
   "source": [
    "print('What\\'s your name?')\n",
    "print(\"What\\'s your name?\")\n",
    "print(\"What\\\\s your name?\")\n",
    "print(\"What\\ts your name?\")\n",
    "print(\"What\\ns your name?\")\n",
    "print(\"What\\\n",
    "s your name?\")\n",
    "print(\"What\\\n",
    "s your \\\n",
    "name?\")"
   ]
  },
  {
   "cell_type": "markdown",
   "metadata": {},
   "source": [
    "如果你需要指定一些没有特殊处理（转义序列等）的字符串，那么你需要指定一个 原始 字符串，指定方法是在字符串前面加上 r 或者 R 。"
   ]
  },
  {
   "cell_type": "code",
   "execution_count": 49,
   "metadata": {},
   "outputs": [
    {
     "name": "stdout",
     "output_type": "stream",
     "text": [
      "Newlines are indicated by \\n\n"
     ]
    }
   ],
   "source": [
    "print(r\"Newlines are indicated by \\n\")\n"
   ]
  },
  {
   "cell_type": "code",
   "execution_count": null,
   "metadata": {},
   "outputs": [],
   "source": []
  }
 ],
 "metadata": {
  "kernelspec": {
   "display_name": "Python 3",
   "language": "python",
   "name": "python3"
  },
  "language_info": {
   "codemirror_mode": {
    "name": "ipython",
    "version": 3
   },
   "file_extension": ".py",
   "mimetype": "text/x-python",
   "name": "python",
   "nbconvert_exporter": "python",
   "pygments_lexer": "ipython3",
   "version": "3.7.3"
  }
 },
 "nbformat": 4,
 "nbformat_minor": 2
}
