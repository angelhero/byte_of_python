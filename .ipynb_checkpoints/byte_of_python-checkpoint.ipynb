{
 "cells": [
  {
   "cell_type": "markdown",
   "metadata": {},
   "source": [
    "# byte of python"
   ]
  },
  {
   "cell_type": "code",
   "execution_count": 105,
   "metadata": {},
   "outputs": [
    {
     "name": "stdout",
     "output_type": "stream",
     "text": [
      "The Zen of Python, by Tim Peters\n",
      "\n",
      "Beautiful is better than ugly.\n",
      "Explicit is better than implicit.\n",
      "Simple is better than complex.\n",
      "Complex is better than complicated.\n",
      "Flat is better than nested.\n",
      "Sparse is better than dense.\n",
      "Readability counts.\n",
      "Special cases aren't special enough to break the rules.\n",
      "Although practicality beats purity.\n",
      "Errors should never pass silently.\n",
      "Unless explicitly silenced.\n",
      "In the face of ambiguity, refuse the temptation to guess.\n",
      "There should be one-- and preferably only one --obvious way to do it.\n",
      "Although that way may not be obvious at first unless you're Dutch.\n",
      "Now is better than never.\n",
      "Although never is often better than *right* now.\n",
      "If the implementation is hard to explain, it's a bad idea.\n",
      "If the implementation is easy to explain, it may be a good idea.\n",
      "Namespaces are one honking great idea -- let's do more of those!\n"
     ]
    }
   ],
   "source": [
    "import this"
   ]
  },
  {
   "cell_type": "code",
   "execution_count": 24,
   "metadata": {},
   "outputs": [
    {
     "name": "stdout",
     "output_type": "stream",
     "text": [
      "Hello World\n"
     ]
    }
   ],
   "source": [
    "print('Hello World')"
   ]
  },
  {
   "cell_type": "code",
   "execution_count": 25,
   "metadata": {},
   "outputs": [
    {
     "name": "stdout",
     "output_type": "stream",
     "text": [
      "what's\n"
     ]
    }
   ],
   "source": [
    "print('what\\'s')"
   ]
  },
  {
   "cell_type": "code",
   "execution_count": 26,
   "metadata": {},
   "outputs": [
    {
     "name": "stdout",
     "output_type": "stream",
     "text": [
      "Help on built-in function len in module builtins:\n",
      "\n",
      "len(obj, /)\n",
      "    Return the number of items in a container.\n",
      "\n"
     ]
    }
   ],
   "source": [
    "help('len')"
   ]
  },
  {
   "cell_type": "markdown",
   "metadata": {},
   "source": [
    "## 常量\n",
    "\n",
    "没有单独的 long 类型。 int 类型可以是任意大小的整数。\n",
    "\n",
    "你可以用单引号指定字符串，如 'Quote me on this'。\n",
    "\n",
    "所有的空格，即引号内的空格和制表符，均保持原样。\n",
    "\n",
    "你可以使用三引号 ——（\"\"\" 或 '''）指定多行字符串。你可以在三引号中自由地使用单引号和双引号。\n",
    "\n",
    "一旦你创建了一个字符串，你就不能再改变它了。\n",
    "\n",
    "在 Python 中，没有单独的 char 数据类型。根本就没有必要拥有单独的 char 数据类型。\n",
    "\n",
    "要记住，单引号字符串和双引号字符串是相同的 —— 他们没有任何区别。"
   ]
  },
  {
   "cell_type": "code",
   "execution_count": 27,
   "metadata": {
    "scrolled": true
   },
   "outputs": [
    {
     "name": "stdout",
     "output_type": "stream",
     "text": [
      "This is a multi-line string. This is the first line.\n",
      "This is the second line.\n",
      "\"What's your name?,\" I asked.\n",
      "He said \"Bond, James Bond.\"\n",
      "\n"
     ]
    }
   ],
   "source": [
    "a='''This is a multi-line string. This is the first line.\n",
    "This is the second line.\n",
    "\"What's your name?,\" I asked.\n",
    "He said \"Bond, James Bond.\"\n",
    "'''\n",
    "print(a)"
   ]
  },
  {
   "cell_type": "code",
   "execution_count": 28,
   "metadata": {},
   "outputs": [
    {
     "name": "stdout",
     "output_type": "stream",
     "text": [
      "Swaroop was 20 years old when he wrote this book\n",
      "Why is Swaroop playing with that python?\n"
     ]
    }
   ],
   "source": [
    "age = 20\n",
    "name = 'Swaroop'\n",
    "\n",
    "print('{0} was {1} years old when he wrote this book'.format(name, age))\n",
    "print('Why is {0} playing with that python?'.format(name))"
   ]
  },
  {
   "cell_type": "markdown",
   "metadata": {},
   "source": [
    "fromat 方法，如果不填数字，默认从 0 依次加 1 。"
   ]
  },
  {
   "cell_type": "code",
   "execution_count": 29,
   "metadata": {},
   "outputs": [
    {
     "name": "stdout",
     "output_type": "stream",
     "text": [
      "Angel have been learning byte of python for a long time.\n",
      "byte of python have been learning Angel for a long time.\n"
     ]
    }
   ],
   "source": [
    "book = 'byte of python'\n",
    "name = 'Angel'\n",
    "\n",
    "print('{1} have been learning {0} for a long time.'.format(book,name))\n",
    "\n",
    "print('{} have been learning {} for a long time.'.format(book,name))\n",
    "\n",
    "# remind the variable rank"
   ]
  },
  {
   "cell_type": "code",
   "execution_count": 30,
   "metadata": {},
   "outputs": [
    {
     "name": "stdout",
     "output_type": "stream",
     "text": [
      "0.333\n",
      "___hello___\n",
      "Swaroop wrote A Byte of Python\n"
     ]
    }
   ],
   "source": [
    "# 取十进制小数点后的精度为 3 ，得到的浮点数为 '0.333'\n",
    "print('{0:.3f}'.format(1.0/3))\n",
    "\n",
    "# 填充下划线 (_) ，文本居中\n",
    "# 将 '___hello___' 的宽度扩充为 11 \n",
    "print('{0:_^11}'.format('hello'))\n",
    "\n",
    "# 用基于关键字的方法打印显示 'Swaroop wrote A Byte of Python'\n",
    "print('{name} wrote {book}'.format(name='Swaroop', book='A Byte of Python'))"
   ]
  },
  {
   "cell_type": "code",
   "execution_count": 31,
   "metadata": {
    "scrolled": true
   },
   "outputs": [
    {
     "name": "stdout",
     "output_type": "stream",
     "text": [
      "0.3333\n",
      "     W      \n",
      "Angel eat orange\n"
     ]
    }
   ],
   "source": [
    "print('{0:.4f}'.format(1.0/3))\n",
    "print('{0: ^12}'.format('W'))\n",
    "print('{name} eat {fruit}'.format(name='Angel', fruit='orange'))"
   ]
  },
  {
   "cell_type": "markdown",
   "metadata": {},
   "source": [
    "print 总是以一个不可见的 「新的一行」 字符（\\n）作为 end 。"
   ]
  },
  {
   "cell_type": "code",
   "execution_count": 32,
   "metadata": {},
   "outputs": [
    {
     "name": "stdout",
     "output_type": "stream",
     "text": [
      "aba\tb\n",
      "b"
     ]
    }
   ],
   "source": [
    "print('a', end='')\n",
    "print('b', end='')\n",
    "print('a', end='\\t')\n",
    "print('b', end='\\n')\n",
    "print('b', end='')"
   ]
  },
  {
   "cell_type": "code",
   "execution_count": 33,
   "metadata": {},
   "outputs": [
    {
     "name": "stdout",
     "output_type": "stream",
     "text": [
      "What's your name?\n",
      "What's your name?\n",
      "What\\s your name?\n",
      "What\ts your name?\n",
      "What\n",
      "s your name?\n",
      "Whats your name?\n",
      "Whats your name?\n"
     ]
    }
   ],
   "source": [
    "print('What\\'s your name?')\n",
    "print(\"What\\'s your name?\")\n",
    "print(\"What\\\\s your name?\")\n",
    "print(\"What\\ts your name?\")\n",
    "print(\"What\\ns your name?\")\n",
    "print(\"What\\\n",
    "s your name?\")\n",
    "print(\"What\\\n",
    "s your \\\n",
    "name?\")"
   ]
  },
  {
   "cell_type": "markdown",
   "metadata": {},
   "source": [
    "如果你需要没有特殊处理（转义序列等）的字符串，那么你需要指定一个 原始 字符串，指定方法是在字符串前面加上 r 或者 R 。"
   ]
  },
  {
   "cell_type": "code",
   "execution_count": 34,
   "metadata": {},
   "outputs": [
    {
     "name": "stdout",
     "output_type": "stream",
     "text": [
      "Newlines are indicated by \\n\n"
     ]
    }
   ],
   "source": [
    "print(r\"Newlines are indicated by \\n\")\n"
   ]
  },
  {
   "cell_type": "markdown",
   "metadata": {},
   "source": [
    "## 变量\n",
    "\n",
    "标识符的第一个字符必须是字母（大写 ASCII 或小写 ASCII 或 Unicode 字符）或者下划线 （\\_）。\n",
    "\n",
    "标识符的其余部分可以由字母、下划线 (\\_) 或者数字 (0-9) 组成。\n",
    "\n",
    "标识符的名称区分大小写。例如， myname 和 myName 是 不 相同的。\n",
    "\n",
    "变量可以直接通过赋值来使用。不需要任何声明或者数据类型定义。\n",
    "\n"
   ]
  },
  {
   "cell_type": "markdown",
   "metadata": {},
   "source": [
    "## 对象\n",
    "\n",
    "从某种意义上说，Python 的面向对象是非常纯粹的，因为一切皆对象，包括数字、字符串和函数。"
   ]
  },
  {
   "cell_type": "markdown",
   "metadata": {},
   "source": [
    "坚持 一行最多一个语句 ，不要使用分号。可以使用反斜杠将其分解为多个物理行。我们称之为 显式行连接："
   ]
  },
  {
   "cell_type": "code",
   "execution_count": 35,
   "metadata": {},
   "outputs": [
    {
     "name": "stdout",
     "output_type": "stream",
     "text": [
      "This is a string.This continues the string.\n",
      "5\n"
     ]
    }
   ],
   "source": [
    "s = 'This is a string.\\\n",
    "This continues the string.'\n",
    "print(s)\n",
    "\n",
    "i =\\\n",
    "5\n",
    "print(i)"
   ]
  },
  {
   "cell_type": "code",
   "execution_count": 36,
   "metadata": {},
   "outputs": [
    {
     "ename": "SyntaxError",
     "evalue": "from __future__ imports must occur at the beginning of the file (<ipython-input-36-6d5c5b2f0daf>, line 4)",
     "output_type": "error",
     "traceback": [
      "\u001b[0;36m  File \u001b[0;32m\"<ipython-input-36-6d5c5b2f0daf>\"\u001b[0;36m, line \u001b[0;32m4\u001b[0m\n\u001b[0;31mSyntaxError\u001b[0m\u001b[0;31m:\u001b[0m from __future__ imports must occur at the beginning of the file\n"
     ]
    }
   ],
   "source": [
    "from __future__ import braces"
   ]
  },
  {
   "cell_type": "markdown",
   "metadata": {},
   "source": [
    "## 运算符\n",
    "\n",
    "\\* (乘)\n",
    "\n",
    "得到两个数相乘的值，或者将一个字符串重复若干次。\n",
    "\n",
    "// (除且取整)\n",
    "\n",
    "x 除以 y 并返回小于商的最大整数，注意，如果操作数之一为浮点数，则返回值必为浮点数。\n",
    "\n",
    "∧ (按位异或) \n",
    "\n",
    "a⊕b = (¬a ∧ b) ∨ (a ∧¬b)\n",
    "\n",
    "变量 = 变量 运算符 表达式 变成了 变量 运算符= 表达式。"
   ]
  },
  {
   "cell_type": "code",
   "execution_count": 37,
   "metadata": {},
   "outputs": [
    {
     "name": "stdout",
     "output_type": "stream",
     "text": [
      "5\n",
      "8\n"
     ]
    }
   ],
   "source": [
    "a = 2\n",
    "a = a + 3\n",
    "print(a)\n",
    "a += 3\n",
    "print(a)"
   ]
  },
  {
   "cell_type": "markdown",
   "metadata": {},
   "source": [
    "## 计算顺序\n",
    "lambda ：Lambda 表达式\n",
    "\n",
    "if - else ：条件表达式\n",
    "\n",
    "or ：布尔或\n",
    "\n",
    "and ：布尔与\n",
    "\n",
    "not x ：布尔非\n",
    "\n",
    "in, not in, is, is not, <, <=, >, >=, !=, == ：比较，包括成员资格测试和身份测试\n",
    "\n",
    "| ：按位或\n",
    "\n",
    "^ ：按位异或\n",
    "\n",
    "& ：按位与\n",
    "\n",
    "<<, >> ：移位\n",
    "\n",
    "+, - ：加减法\n",
    "\n",
    "\\*, /, //, % ：乘除法，取整和取余\n",
    "\n",
    "+x, -x, ~x ：正负号，按位非\n",
    "\n",
    "** ：求幂\n",
    "\n",
    "x[index], x[index:index], x(arguments...), x.attribute ：订阅，切片，调用，属性引用\n",
    "\n",
    "(expressions...), [expressions...], {key: value...}, {expressions...} ： 绑定或者元组显示，列表显示，字典显示，设置显示\n",
    "\n",
    "可以使用括号增加可读性或改变计算顺序，相同优先级的操作符按照从左到右的方式进行计算。\n",
    "\n",
    "如下，尽管我们没有指明 'Area is' 与变量 area 之间有一个空格，但是 Python 会自动加上。"
   ]
  },
  {
   "cell_type": "code",
   "execution_count": 38,
   "metadata": {},
   "outputs": [
    {
     "name": "stdout",
     "output_type": "stream",
     "text": [
      "Area is 10\n",
      "Perimeter is 14\n"
     ]
    }
   ],
   "source": [
    "length = 5\n",
    "breadth = 2\n",
    "\n",
    "area = length * breadth\n",
    "print('Area is', area)\n",
    "print('Perimeter is', 2 * (length + breadth))"
   ]
  },
  {
   "cell_type": "markdown",
   "metadata": {},
   "source": [
    "## 控制流\n",
    "\n",
    "### if 语句"
   ]
  },
  {
   "cell_type": "code",
   "execution_count": 43,
   "metadata": {},
   "outputs": [
    {
     "name": "stdout",
     "output_type": "stream",
     "text": [
      "Please guess my age:12\n",
      "larger please!\n"
     ]
    }
   ],
   "source": [
    "age = 25\n",
    "guess = int(input('Please guess my age:'))\n",
    "\n",
    "if age == guess:\n",
    "    print('bingo!')\n",
    "elif age > guess:\n",
    "    print('larger please!')\n",
    "else:\n",
    "    print('lower please!')"
   ]
  },
  {
   "cell_type": "markdown",
   "metadata": {},
   "source": [
    "记住， elif 和 else 部分是可选的。\n",
    "\n",
    "Python 中没有 switch 语句。"
   ]
  },
  {
   "cell_type": "code",
   "execution_count": 44,
   "metadata": {},
   "outputs": [
    {
     "name": "stdout",
     "output_type": "stream",
     "text": [
      "Yes, it is true\n"
     ]
    }
   ],
   "source": [
    "if True:\n",
    "    print('Yes, it is true')"
   ]
  },
  {
   "cell_type": "markdown",
   "metadata": {},
   "source": [
    "### while 语句\n",
    "\n",
    "记住， else 部分是可选的。如果程序有该部分，那么在 while 循环结束后一定会执行一次该部分。除非遇到 break 语句。"
   ]
  },
  {
   "cell_type": "code",
   "execution_count": 45,
   "metadata": {},
   "outputs": [
    {
     "name": "stdout",
     "output_type": "stream",
     "text": [
      "Please guess my age:12\n",
      "larger please!\n",
      "Please guess my age:30\n",
      "lower please!\n",
      "Please guess my age:25\n",
      "bingo!\n",
      "You did it!\n"
     ]
    }
   ],
   "source": [
    "age = 25\n",
    "running = True\n",
    "\n",
    "while running:\n",
    "    guess = int(input('Please guess my age:'))\n",
    "    if age == guess:\n",
    "        print('bingo!')\n",
    "        running = False\n",
    "    elif age > guess:\n",
    "        print('larger please!')\n",
    "    else:\n",
    "        print('lower please!')\n",
    "else:\n",
    "    print('You did it!')"
   ]
  },
  {
   "cell_type": "markdown",
   "metadata": {},
   "source": [
    "### for 循环\n",
    "记住， else 部分是可选的。如果程序有该部分，那么在 for 循环结束后一定会执行一次该部分。除非遇到 break 语句。\n",
    "\n",
    "range(1,5) 得到序列 [1, 2, 3, 4] 。range(1,5,2) 得到 [1,3] 。\n",
    "\n",
    "list(range(5)) 会生成 [0, 1, 2, 3, 4]。\n",
    "\n",
    "记住，返回的序列的范围 不 包含第二个数字。\n",
    "\n",
    "range 一次只分配一个。list(range(5)) 得到全部。"
   ]
  },
  {
   "cell_type": "code",
   "execution_count": 46,
   "metadata": {},
   "outputs": [
    {
     "name": "stdout",
     "output_type": "stream",
     "text": [
      "1\n",
      "2\n",
      "3\n",
      "4\n",
      "loop finished!\n"
     ]
    }
   ],
   "source": [
    "for i in range(1,5):\n",
    "    print(i)\n",
    "else:\n",
    "    print('loop finished!')"
   ]
  },
  {
   "cell_type": "markdown",
   "metadata": {},
   "source": [
    "### break 语句\n",
    "用来中断循环，break 之后的语句都不会执行。"
   ]
  },
  {
   "cell_type": "code",
   "execution_count": 47,
   "metadata": {},
   "outputs": [
    {
     "name": "stdout",
     "output_type": "stream",
     "text": [
      "1\n"
     ]
    }
   ],
   "source": [
    "for i in range(1,5):\n",
    "    print(i)\n",
    "    break\n",
    "else:\n",
    "    print('loop finished!')"
   ]
  },
  {
   "cell_type": "markdown",
   "metadata": {},
   "source": [
    "### continue 语句\n",
    "\n",
    "continue 语句用来告诉 Python 跳过当前循环语句块中的其余部分，然后 继续 执行循环的下一个迭代。\n"
   ]
  },
  {
   "cell_type": "code",
   "execution_count": 48,
   "metadata": {},
   "outputs": [
    {
     "name": "stdout",
     "output_type": "stream",
     "text": [
      "please input any word:as\n",
      "larger please!\n",
      "please input any word:adas\n",
      "welcome!\n",
      "please input any word:quir\n",
      "welcome!\n",
      "please input any word:quit\n"
     ]
    }
   ],
   "source": [
    "while True:\n",
    "    name = input('please input any word:')\n",
    "    if name == 'quit':\n",
    "        break\n",
    "    elif len(name) < 3:\n",
    "        print('larger please!')\n",
    "        continue\n",
    "    print('welcome!')"
   ]
  },
  {
   "cell_type": "markdown",
   "metadata": {},
   "source": [
    "区分：continue是结束本次循环 break是结束所有循环"
   ]
  },
  {
   "cell_type": "markdown",
   "metadata": {},
   "source": [
    "## 函数"
   ]
  },
  {
   "cell_type": "code",
   "execution_count": 49,
   "metadata": {},
   "outputs": [],
   "source": [
    "def say_hello():\n",
    "    print('Hello World')"
   ]
  },
  {
   "cell_type": "code",
   "execution_count": 50,
   "metadata": {},
   "outputs": [
    {
     "name": "stdout",
     "output_type": "stream",
     "text": [
      "Hello World\n"
     ]
    }
   ],
   "source": [
    "say_hello()"
   ]
  },
  {
   "cell_type": "markdown",
   "metadata": {},
   "source": [
    "函数定义时括号中的参数叫做 形参，而调用函数时提供的参数叫 实参。\n",
    "\n",
    "直接传入实参和通过变量传入实参都适用。"
   ]
  },
  {
   "cell_type": "code",
   "execution_count": 51,
   "metadata": {},
   "outputs": [],
   "source": [
    "def print_max(a,b):\n",
    "# a,b 是形参\n",
    "    if a > b:\n",
    "        print(a,'is maximum')\n",
    "    elif a == b:\n",
    "        print(a,'equals to',b)\n",
    "    else:\n",
    "        print(b,'is maximum')"
   ]
  },
  {
   "cell_type": "code",
   "execution_count": 52,
   "metadata": {},
   "outputs": [
    {
     "name": "stdout",
     "output_type": "stream",
     "text": [
      "2 is maximum\n"
     ]
    }
   ],
   "source": [
    "print_max(1,2)#1,2是实参"
   ]
  },
  {
   "cell_type": "code",
   "execution_count": 53,
   "metadata": {
    "scrolled": true
   },
   "outputs": [
    {
     "name": "stdout",
     "output_type": "stream",
     "text": [
      "8 is maximum\n"
     ]
    }
   ],
   "source": [
    "x = 7\n",
    "y = 8\n",
    "print_max(x,y)"
   ]
  },
  {
   "cell_type": "markdown",
   "metadata": {},
   "source": [
    "### 局部变量和全局变量\n",
    "\n",
    "当变量写在函数名括号内时，意味着该变量为局部变量。\n",
    "\n",
    "当函数内变量前用 global 声明时，该变量为全局变量。\n",
    "\n",
    "若变量写在函数名括号内且同时用 global 声明时，会报错。因为不能同时为局部变量和全局变量。"
   ]
  },
  {
   "cell_type": "code",
   "execution_count": 63,
   "metadata": {},
   "outputs": [
    {
     "ename": "SyntaxError",
     "evalue": "name 'x' is parameter and global (<ipython-input-63-aee7ef81326e>, line 8)",
     "output_type": "error",
     "traceback": [
      "\u001b[0;36m  File \u001b[0;32m\"<ipython-input-63-aee7ef81326e>\"\u001b[0;36m, line \u001b[0;32m8\u001b[0m\n\u001b[0;31m    print('x is',x,'y is',y)\u001b[0m\n\u001b[0m           ^\u001b[0m\n\u001b[0;31mSyntaxError\u001b[0m\u001b[0;31m:\u001b[0m name 'x' is parameter and global\n"
     ]
    }
   ],
   "source": [
    "x = 50\n",
    "y = 50\n",
    "\n",
    "def global_func(x,y):\n",
    "    global x,y\n",
    "    x = 20\n",
    "    y = 30\n",
    "    print('x is',x,'y is',y)\n",
    "    \n",
    "global_func()\n",
    "\n",
    "print('x is',x,'y is',y)"
   ]
  },
  {
   "cell_type": "code",
   "execution_count": 64,
   "metadata": {},
   "outputs": [
    {
     "name": "stdout",
     "output_type": "stream",
     "text": [
      "x is 50\n",
      "changed local x to 2\n",
      "x still is 50\n",
      "x is 20 y is 30\n",
      "x is 20 y is 30\n"
     ]
    }
   ],
   "source": [
    "x = 50\n",
    "y = 50\n",
    "\n",
    "def func(x):\n",
    "    print('x is',x)\n",
    "    x = 2\n",
    "    print('changed local x to',x)\n",
    "    \n",
    "func(x)\n",
    "print('x still is',x)\n",
    "\n",
    "def global_func():\n",
    "    global x,y\n",
    "    x = 20\n",
    "    y = 30\n",
    "    print('x is',x,'y is',y)\n",
    "    \n",
    "global_func()\n",
    "\n",
    "print('x is',x,'y is',y)"
   ]
  },
  {
   "cell_type": "markdown",
   "metadata": {},
   "source": [
    "### 默认参数值\n",
    "\n",
    "形参的默认值必须是常数。更准确的说，默认值是不可改变的。\n",
    "\n",
    "只有形参列表末尾的参数才能指定默认值，即你不能在声明参数列表时先声明有默认值的形参，然后再声明没有默认值的形参。\n",
    "\n",
    "这是因为给形参赋值是按照实参的顺序进行的。例如函数声明 def func(a, b=5) 是有效的，而函数声明 def func(a=5, b) 是 无效的。"
   ]
  },
  {
   "cell_type": "code",
   "execution_count": 69,
   "metadata": {},
   "outputs": [
    {
     "name": "stdout",
     "output_type": "stream",
     "text": [
      "omgomgomg\n",
      "omgomgomgomgomg\n"
     ]
    }
   ],
   "source": [
    "def say(x,y=3):\n",
    "    print(x*y)\n",
    "\n",
    "say('omg')\n",
    "say('omg',5)"
   ]
  },
  {
   "cell_type": "markdown",
   "metadata": {},
   "source": [
    "### 关键字参数\n",
    "\n",
    "尽管在函数定义中，a 在 c 之前定义，我们仍可以在指定形参 a 之前指定形参 c。"
   ]
  },
  {
   "cell_type": "code",
   "execution_count": 71,
   "metadata": {},
   "outputs": [
    {
     "name": "stdout",
     "output_type": "stream",
     "text": [
      "a is 1 b is 7 c is 20\n",
      "a is 1 b is 5 c is 10\n",
      "a is 1 b is 5 c is 10\n"
     ]
    }
   ],
   "source": [
    "def func(a,b=5,c=20):\n",
    "    print('a is',a,'b is',b,'c is',c)\n",
    "func(1,7)\n",
    "func(a=1,c=10)\n",
    "func(c=10,a=1)"
   ]
  },
  {
   "cell_type": "markdown",
   "metadata": {},
   "source": [
    "### 可变参数\n",
    "\n",
    "当我们声明一个带星号的参数 \\*param 时，从这个参数开始，之后的所有参数都会被收集进入一个名为 param 的元组中。\n",
    "\n",
    "类似的，当我们定义了一个带两个星号的参数 \\*\\*param 时，从这个参数开始，之后的所有参数都会被收入名为 param 的字典中。"
   ]
  },
  {
   "cell_type": "code",
   "execution_count": 76,
   "metadata": {},
   "outputs": [
    {
     "name": "stdout",
     "output_type": "stream",
     "text": [
      "a 10\n",
      "1\n",
      "2\n",
      "3\n",
      "mary 1223\n",
      "bob 23123\n",
      "bill 93932\n"
     ]
    }
   ],
   "source": [
    "def total(a=2,*b,**c):\n",
    "    print('a',a)\n",
    "    for bb in b:\n",
    "        print(bb)\n",
    "    for c_key,c_value in c.items(): ##注意 item 后面加 s\n",
    "        print(c_key,c_value)\n",
    "\n",
    "total(10,1,2,3,mary=1223,bob=23123,bill=93932)\n"
   ]
  },
  {
   "cell_type": "markdown",
   "metadata": {},
   "source": [
    "### return 语句\n",
    "\n",
    "return 语句用于从一个函数 返回，即跳出这个函数。我们也可以从函数跳出时 返回一个值，返回值是可选的。"
   ]
  },
  {
   "cell_type": "code",
   "execution_count": 85,
   "metadata": {},
   "outputs": [
    {
     "name": "stdout",
     "output_type": "stream",
     "text": [
      "3\n"
     ]
    }
   ],
   "source": [
    "def maximum(x,y):\n",
    "    if x > y:\n",
    "        return x\n",
    "    elif x < y:\n",
    "        return y\n",
    "    else:\n",
    "        return 'x and y is equal'\n",
    "print(maximum(2,3)) #外面加 print\n",
    "#Python 的内置函数中，有一个名为 max 的函数，已经实现了「找到最大值」的功能。\n",
    "#你应该尽可能使用内置函数，而不是用上面的 maximum 函数或自己实现的版本。"
   ]
  },
  {
   "cell_type": "markdown",
   "metadata": {},
   "source": [
    "注意没有返回值的 return 语句等价于 return None。None 在 Python 是一种代表「没有任何东西」特殊的类型。\n",
    "\n",
    "例如：如果一个变量的值是 None，则说明这个变量尚未被赋值或值已被清空。"
   ]
  },
  {
   "cell_type": "code",
   "execution_count": 86,
   "metadata": {},
   "outputs": [
    {
     "name": "stdout",
     "output_type": "stream",
     "text": [
      "None\n"
     ]
    }
   ],
   "source": [
    "def some_function():\n",
    "    pass #pass 语句在 Python 中用于表示一个空的语句块，通常用于占位。\n",
    "\n",
    "print(some_function())"
   ]
  },
  {
   "cell_type": "markdown",
   "metadata": {},
   "source": [
    "### DocStrings\n",
    "\n",
    "DocStrings 的书写惯例是：\n",
    "\n",
    "首行首字母大写，结尾有句号；第二行为空行；第三行以后为详细的描述。\n",
    "\n",
    "我们 强烈建议 你在编写任何非平凡函数时都遵守这种惯例，那些只有几行的平凡函数可以不遵守这个惯例"
   ]
  },
  {
   "cell_type": "code",
   "execution_count": 89,
   "metadata": {},
   "outputs": [
    {
     "name": "stdout",
     "output_type": "stream",
     "text": [
      "5 is maximum\n",
      "Prints the maximum of two numbers.\n",
      "\n",
      "    The two values must be integers.\n",
      "Help on function print_max in module __main__:\n",
      "\n",
      "print_max(x, y)\n",
      "    Prints the maximum of two numbers.\n",
      "    \n",
      "    The two values must be integers.\n",
      "\n"
     ]
    }
   ],
   "source": [
    "def print_max(x, y):\n",
    "    '''Prints the maximum of two numbers.\n",
    "\n",
    "    The two values must be integers.'''\n",
    "    # 如果有必要，将参数转为整数\n",
    "    x = int(x)\n",
    "    y = int(y)\n",
    "\n",
    "    if x > y:\n",
    "        print(x, 'is maximum')\n",
    "    else:\n",
    "        print(y, 'is maximum')\n",
    "\n",
    "print_max(3, 5)\n",
    "print(print_max.__doc__)\n",
    "help(print_max)"
   ]
  },
  {
   "cell_type": "markdown",
   "metadata": {},
   "source": [
    "## 模块\n",
    "\n",
    "函数 -- 复用代码\n",
    "\n",
    "模块 -- 复用函数\n",
    "\n",
    "代码包 -- 复用模块（如标准库）\n",
    "\n",
    "记住，当前运行的模块名总储存在 sys.argv 列表的第一个元素中。\n",
    "\n",
    "所以执行以上语句后，sys.argv[0] 中存放着 'module_using_sys.py'，'we' 放在 sys.argv[1], 'are' 放在 sys.argv[2] 而 'arguments' 放在 sys.argv[3]。"
   ]
  },
  {
   "cell_type": "code",
   "execution_count": 91,
   "metadata": {},
   "outputs": [
    {
     "name": "stdout",
     "output_type": "stream",
     "text": [
      "The command line arguments are:\n",
      "/Library/Frameworks/Python.framework/Versions/3.7/lib/python3.7/site-packages/ipykernel_launcher.py\n",
      "-f\n",
      "/Users/xuahe/Library/Jupyter/runtime/kernel-85f67e73-8145-4814-95e4-7c2666af32d6.json\n",
      "\n",
      "\n",
      "The PYTHONPATH is ['/Users/xuahe/PycharmProjects/start', '/Library/Frameworks/Python.framework/Versions/3.7/lib/python37.zip', '/Library/Frameworks/Python.framework/Versions/3.7/lib/python3.7', '/Library/Frameworks/Python.framework/Versions/3.7/lib/python3.7/lib-dynload', '', '/Library/Frameworks/Python.framework/Versions/3.7/lib/python3.7/site-packages', '/Library/Frameworks/Python.framework/Versions/3.7/lib/python3.7/site-packages/IPython/extensions', '/Users/xuahe/.ipython'] \n",
      "\n"
     ]
    }
   ],
   "source": [
    "import sys\n",
    "\n",
    "print('The command line arguments are:')\n",
    "for i in sys.argv:\n",
    "    print(i)\n",
    "\n",
    "print('\\n\\nThe PYTHONPATH is', sys.path, '\\n')"
   ]
  },
  {
   "cell_type": "code",
   "execution_count": 99,
   "metadata": {},
   "outputs": [
    {
     "name": "stdout",
     "output_type": "stream",
     "text": [
      "/Users/xuahe/PycharmProjects/start\n"
     ]
    }
   ],
   "source": [
    "import os  \n",
    "print(os.getcwd()) #获取当前目录"
   ]
  },
  {
   "cell_type": "markdown",
   "metadata": {},
   "source": [
    "### why use if \\_\\_name\\_\\_ == '\\_\\_main\\_\\_':\n",
    "\n",
    "意思是控制只有执行当前文件才会执行后面的语句，如果是作为model被import就不执行后面语句\n",
    "\n",
    "有时会在后面加一些测试"
   ]
  },
  {
   "cell_type": "code",
   "execution_count": 102,
   "metadata": {},
   "outputs": [
    {
     "name": "stdout",
     "output_type": "stream",
     "text": [
      "This program is being run by itself\n"
     ]
    }
   ],
   "source": [
    "if __name__ == '__main__':\n",
    "    print('This program is being run by itself')\n",
    "else:\n",
    "    print('I am being imported from another module')"
   ]
  },
  {
   "cell_type": "markdown",
   "metadata": {},
   "source": [
    "### 创建自己的模块\n",
    "\n",
    "文件名以 .py 作为扩展名。\n",
    "\n",
    "模块的位置有两种选择：1、导入它的程序所处的文件夹下；2、sys.path 所列出的文件夹下。"
   ]
  },
  {
   "cell_type": "code",
   "execution_count": 103,
   "metadata": {},
   "outputs": [],
   "source": [
    "# mymodule.py\n",
    "\n",
    "def say_hi():\n",
    "    print('Hi, this is mymodule speaking.')\n",
    "\n",
    "__version__ = '0.1'"
   ]
  },
  {
   "cell_type": "code",
   "execution_count": 104,
   "metadata": {
    "scrolled": true
   },
   "outputs": [
    {
     "ename": "ModuleNotFoundError",
     "evalue": "No module named 'mymodule'",
     "output_type": "error",
     "traceback": [
      "\u001b[0;31m---------------------------------------------------------------------------\u001b[0m",
      "\u001b[0;31mModuleNotFoundError\u001b[0m                       Traceback (most recent call last)",
      "\u001b[0;32m<ipython-input-104-95c053d484a6>\u001b[0m in \u001b[0;36m<module>\u001b[0;34m\u001b[0m\n\u001b[0;32m----> 1\u001b[0;31m \u001b[0;32mimport\u001b[0m \u001b[0mmymodule\u001b[0m\u001b[0;34m\u001b[0m\u001b[0;34m\u001b[0m\u001b[0m\n\u001b[0m\u001b[1;32m      2\u001b[0m \u001b[0mmymodule\u001b[0m\u001b[0;34m.\u001b[0m\u001b[0msay_hi\u001b[0m\u001b[0;34m(\u001b[0m\u001b[0;34m)\u001b[0m\u001b[0;34m\u001b[0m\u001b[0;34m\u001b[0m\u001b[0m\n\u001b[1;32m      3\u001b[0m \u001b[0mprint\u001b[0m\u001b[0;34m(\u001b[0m\u001b[0;34m'Version'\u001b[0m\u001b[0;34m,\u001b[0m \u001b[0mmymodule\u001b[0m\u001b[0;34m.\u001b[0m\u001b[0m__version__\u001b[0m\u001b[0;34m)\u001b[0m\u001b[0;34m\u001b[0m\u001b[0;34m\u001b[0m\u001b[0m\n",
      "\u001b[0;31mModuleNotFoundError\u001b[0m: No module named 'mymodule'"
     ]
    }
   ],
   "source": [
    "import mymodule # import 全部公开名称（public names）和非公开名称\n",
    "from mymodule import say_hi, __version__ # import say_hi, __version__\n",
    "from mymodule import * # import 全部公开名称（public names）（不包括__version__）\n",
    "# Python 之禅：Python 的指导原则之一，就是「显式优于隐式」。\n",
    "mymodule.say_hi()\n",
    "print('Version', mymodule.__version__)"
   ]
  },
  {
   "cell_type": "markdown",
   "metadata": {},
   "source": [
    "### dir 函数\n",
    "\n",
    "内置的 dir() 函数能以列表的形式返回某个对象定义的一系列标识符。如果这个对象是个模块，返回的列表中会包含模块内部所有的函数、类和变量。\n",
    "\n",
    "这个函数接收一个可选的参数。当参数是模块名时，函数会返回对应模块的标识符列表。没有参数时则会返回当前模块的标识符列表。\n",
    "\n",
    "注意 dir 函数 对任 何对象都有效。例如：dir(str) 会列出 str (String) 类的属性。"
   ]
  },
  {
   "cell_type": "code",
   "execution_count": 113,
   "metadata": {},
   "outputs": [],
   "source": [
    "import sys\n",
    "\n",
    "dir(sys)\n",
    "\n",
    "x = 2\n",
    "\n",
    "dir()\n",
    "\n",
    "print(dir(x))\n",
    "\n",
    "del x #删除变量 x\n",
    "\n",
    "dir()\n"
   ]
  },
  {
   "cell_type": "markdown",
   "metadata": {},
   "source": [
    "### 程序包\n",
    "\n",
    "- <some folder present in the sys.path>/\n",
    "    - world/\n",
    "        - __init__.py\n",
    "        - asia/\n",
    "            - __init__.py\n",
    "            - india/\n",
    "                - __init__.py\n",
    "                - foo.py\n",
    "        - africa/\n",
    "            - __init__.py\n",
    "            - madagascar/\n",
    "                - __init__.py\n",
    "                - bar.py"
   ]
  },
  {
   "cell_type": "markdown",
   "metadata": {},
   "source": [
    "## 数据结构"
   ]
  },
  {
   "cell_type": "markdown",
   "metadata": {},
   "source": [
    "### list 列表 []\n",
    "\n",
    "list 序列 有序 可变"
   ]
  },
  {
   "cell_type": "code",
   "execution_count": 130,
   "metadata": {},
   "outputs": [
    {
     "name": "stdout",
     "output_type": "stream",
     "text": [
      "The list totally have 3 items.\n",
      "Please enter what else do you what to buy:mac\n",
      "Please enter which one you already bought:1\n",
      "The shopping list is: ['earpods pro', 'kindle', 'mac']\n",
      "The sorted list is: earpods pro    kindle    mac    "
     ]
    }
   ],
   "source": [
    "to_buy_list = ['iphone','earpods pro','kindle']\n",
    "\n",
    "print('The list totally have',len(to_buy_list),'items.')\n",
    "\n",
    "a = input('Please enter what else do you what to buy:')\n",
    "\n",
    "to_buy_list.append(a) ##添加\n",
    "\n",
    "b = int(input('Please enter which one you already bought:'))\n",
    "\n",
    "del to_buy_list[b-1] ##删除\n",
    "\n",
    "print('The shopping list is:',to_buy_list)\n",
    "\n",
    "to_buy_list.sort()\n",
    "\n",
    "print('The sorted list is:',end=' ')\n",
    "for i in to_buy_list:\n",
    "    print(i,end='    ')\n"
   ]
  },
  {
   "cell_type": "markdown",
   "metadata": {},
   "source": [
    "### tuple 元组 ()\n",
    "\n",
    "元组 序列 不可变\n",
    "\n",
    "包含 0 或 1 个项的元组要在项后面加逗号 singleton = (2 , )"
   ]
  },
  {
   "cell_type": "code",
   "execution_count": 166,
   "metadata": {},
   "outputs": [
    {
     "name": "stdout",
     "output_type": "stream",
     "text": [
      "Number of animals in the zoo are: 3\n",
      "Number of cages in the new zoo are: 3\n",
      "The animals in the new zoo are: ('python', 'cow', ('cat', 'dog', 'sheep'))\n",
      "The animals from the old zoo are: ('cat', 'dog', 'sheep')\n",
      "The first animal in the new zoo is: cat\n",
      "Number of animals in the new zoo are: 5\n"
     ]
    }
   ],
   "source": [
    "zoo = ('cat','dog','sheep')\n",
    "\n",
    "print('Number of animals in the zoo are:',len(zoo))\n",
    "\n",
    "new_zoo = ('python','cow',zoo)\n",
    "\n",
    "print('Number of cages in the new zoo are:',len(new_zoo))\n",
    "\n",
    "print('The animals in the new zoo are:',new_zoo)\n",
    "\n",
    "print('The animals from the old zoo are:',new_zoo[2])\n",
    "\n",
    "print('The first animal in the new zoo is:',new_zoo[2][0])\n",
    "\n",
    "print('Number of animals in the new zoo are:',(len(new_zoo)-1)+len(new_zoo[2]))"
   ]
  },
  {
   "cell_type": "markdown",
   "metadata": {},
   "source": [
    "### dict 字典 {a:b,c:d}\n",
    "\n",
    "键：唯一 不可变\n",
    "\n",
    "值：不唯一 可变"
   ]
  },
  {
   "cell_type": "code",
   "execution_count": 167,
   "metadata": {},
   "outputs": [
    {
     "name": "stdout",
     "output_type": "stream",
     "text": [
      "The song of cat is miaomiaomiao\n",
      "There totally have 3 songs\n",
      "The song of dog is wangwangwang\n",
      "The song of fox is jijiji\n",
      "The song of cow is moumoumou\n"
     ]
    }
   ],
   "source": [
    "songs = {\n",
    "    'cat' : 'miaomiaomiao',\n",
    "    'dog' : 'wangwangwang',\n",
    "    'fox' : 'jijiji',\n",
    "}\n",
    "\n",
    "print('The song of cat is',songs['cat'])\n",
    "\n",
    "print('There totally have {} songs'.format(len(songs)))\n",
    "\n",
    "del songs['cat']\n",
    "\n",
    "for animal, song in songs.items():\n",
    "    print('The song of {} is {}'.format(animal,song))\n",
    "\n",
    "songs['cow'] = 'moumoumou'\n",
    "\n",
    "if 'cow' in songs:\n",
    "    print('The song of cow is',songs['cow'])"
   ]
  },
  {
   "cell_type": "markdown",
   "metadata": {},
   "source": [
    "### 序列\n",
    "\n",
    "包括：列表 元组 字符串\n",
    "\n",
    "特征：\n",
    "- 成员测试 (例如：in 与 not in 表达式) 和 索引操作，这两种操作让我们可以直接从序列中提取特定的部分。\n",
    "- 切片 注意切片含头不含尾 可以指定步长\n",
    "\n"
   ]
  },
  {
   "cell_type": "code",
   "execution_count": 168,
   "metadata": {},
   "outputs": [
    {
     "name": "stdout",
     "output_type": "stream",
     "text": [
      "The first fruit is: apple\n",
      "The last fruit is: lemon\n",
      "The fruit 1 to -1 is: ['banana', 'orange', 'mango']\n",
      "['banana', 'mango']\n",
      "a e ngeliquehe angeliquehe\n"
     ]
    }
   ],
   "source": [
    "fruit = ['apple','banana','orange','mango','lemon']\n",
    "\n",
    "name = 'angeliquehe'\n",
    "\n",
    "print('The first fruit is:',fruit[0])\n",
    "\n",
    "print('The last fruit is:',fruit[-1])\n",
    "\n",
    "print('The fruit 1 to -1 is:',fruit[1:-1]) \n",
    "\n",
    "print(fruit[1:-1:2]) #在含头不含尾的范围里，步长为 2\n",
    "\n",
    "print(name[0],name[-1],name[1:],name[:])"
   ]
  },
  {
   "cell_type": "markdown",
   "metadata": {},
   "source": [
    "### set 集合 set([])\n",
    "\n",
    "无序 互异\n",
    "\n",
    "用来得到是否为子集或求交集"
   ]
  },
  {
   "cell_type": "code",
   "execution_count": 169,
   "metadata": {},
   "outputs": [
    {
     "name": "stdout",
     "output_type": "stream",
     "text": [
      "True\n",
      "False\n",
      "True\n",
      "{'CN', 'US'}\n"
     ]
    }
   ],
   "source": [
    "contry = set(['CN','US','UK'])\n",
    "\n",
    "print('CN' in contry)\n",
    "print('SP' in contry)\n",
    "\n",
    "contrys = contry.copy()\n",
    "\n",
    "contrys.add('AU')\n",
    "\n",
    "print(contrys.issuperset(contry))\n",
    "\n",
    "contry.remove('UK')\n",
    "\n",
    "print(contry & contrys)"
   ]
  },
  {
   "cell_type": "markdown",
   "metadata": {},
   "source": [
    "### 引用\n",
    "\n",
    "通过变量间的赋值只是让被赋值变量指向原变量，两者内容绑定。\n",
    "\n",
    "列表的赋值操作并不会产生一个副本，你需要通过切片操作来获得序列的副本。"
   ]
  },
  {
   "cell_type": "code",
   "execution_count": 172,
   "metadata": {},
   "outputs": [
    {
     "name": "stdout",
     "output_type": "stream",
     "text": [
      "new zoo: ['dog', 'python']\n",
      "old zoo: ['dog', 'python', 'cow']\n",
      "new zoo: ['dog', 'python', 'cow']\n"
     ]
    }
   ],
   "source": [
    "zoo = ['cat','dog','python']\n",
    "\n",
    "zoo_new = zoo\n",
    "\n",
    "del zoo[0]\n",
    "\n",
    "print('new zoo:',zoo_new)\n",
    "\n",
    "zoo_new.append('cow')\n",
    "\n",
    "print('old zoo:',zoo)\n",
    "\n",
    "zoo_new = zoo[:]\n",
    "\n",
    "del zoo[0]\n",
    "\n",
    "print('new zoo:',zoo_new)\n"
   ]
  },
  {
   "cell_type": "markdown",
   "metadata": {},
   "source": [
    "### 总结\n",
    "\n",
    "对于序列：增加 append 删除del\n",
    "\n",
    "对于集合：增加 add 删除 remove"
   ]
  },
  {
   "cell_type": "markdown",
   "metadata": {},
   "source": [
    "### 更多的字符串操作\n",
    "\n",
    "startswith 方法用于检测字符串是否以给定的字符串开头。 \n",
    "\n",
    "in 方法用于测试给定的字符是否是另一个字符串的一部分。\n",
    "\n",
    "find 方法用于确定给定子字符串在源字符串中的位置， find 返回 -1 说明找不到给定的字符串。 \n",
    "\n",
    "str 还有一个 join 方法，用于将源字符串按给定的字符分隔，并返回一个大字符串。"
   ]
  },
  {
   "cell_type": "code",
   "execution_count": 176,
   "metadata": {},
   "outputs": [
    {
     "name": "stdout",
     "output_type": "stream",
     "text": [
      "yes a starts with angel.\n",
      "yes a contains a.\n",
      "yes a contains angel.\n",
      "angel*_*bill*_*avien*_*phillip\n"
     ]
    }
   ],
   "source": [
    "a = 'angelique'\n",
    "\n",
    "if a.startswith('angel'):\n",
    "    print('yes a starts with angel.')\n",
    "\n",
    "if 'a' in a:\n",
    "    print('yes a contains a.')\n",
    "\n",
    "if a.find('angel')!=-1:\n",
    "    print('yes a contains angel.')\n",
    "\n",
    "delimiter = '*_*'\n",
    "names = ['angel','bill','avien','phillip']\n",
    "print(delimiter.join(names))"
   ]
  },
  {
   "cell_type": "code",
   "execution_count": null,
   "metadata": {},
   "outputs": [],
   "source": []
  }
 ],
 "metadata": {
  "kernelspec": {
   "display_name": "Python 3",
   "language": "python",
   "name": "python3"
  },
  "language_info": {
   "codemirror_mode": {
    "name": "ipython",
    "version": 3
   },
   "file_extension": ".py",
   "mimetype": "text/x-python",
   "name": "python",
   "nbconvert_exporter": "python",
   "pygments_lexer": "ipython3",
   "version": "3.7.3"
  }
 },
 "nbformat": 4,
 "nbformat_minor": 2
}
